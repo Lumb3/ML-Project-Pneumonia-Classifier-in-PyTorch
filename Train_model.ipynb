{
  "nbformat": 4,
  "nbformat_minor": 0,
  "metadata": {
    "colab": {
      "provenance": [],
      "authorship_tag": "ABX9TyPQKxiArhNShfzG2Th6GBD8",
      "include_colab_link": true
    },
    "kernelspec": {
      "name": "python3",
      "display_name": "Python 3"
    },
    "language_info": {
      "name": "python"
    }
  },
  "cells": [
    {
      "cell_type": "markdown",
      "metadata": {
        "id": "view-in-github",
        "colab_type": "text"
      },
      "source": [
        "<a href=\"https://colab.research.google.com/github/Lumb3/ML-Project-Pneumonia-Classifier-in-PyTorch/blob/main/Train_model.ipynb\" target=\"_parent\"><img src=\"https://colab.research.google.com/assets/colab-badge.svg\" alt=\"Open In Colab\"/></a>"
      ]
    },
    {
      "cell_type": "code",
      "execution_count": null,
      "metadata": {
        "colab": {
          "base_uri": "https://localhost:8080/"
        },
        "id": "4cWUIO0R7SQb",
        "outputId": "1105dfa8-90a2-462e-92c9-a77d6885734c"
      },
      "outputs": [
        {
          "output_type": "stream",
          "name": "stdout",
          "text": [
            "Drive already mounted at /content/drive; to attempt to forcibly remount, call drive.mount(\"/content/drive\", force_remount=True).\n"
          ]
        }
      ],
      "source": [
        "import os\n",
        "from google.colab import drive\n",
        "drive.mount('/content/drive')\n",
        "from PIL import Image\n",
        "import torch\n",
        "import torch.nn as nn\n",
        "import torch.optim as optim\n",
        "from torch.utils.data import DataLoader, Dataset\n",
        "from torchvision import transforms, models\n",
        "from sklearn.metrics import accuracy_score\n",
        "import multiprocessing"
      ]
    },
    {
      "cell_type": "code",
      "source": [
        "multiprocessing.cpu_count()"
      ],
      "metadata": {
        "colab": {
          "base_uri": "https://localhost:8080/"
        },
        "id": "wg6f39uYPBJj",
        "outputId": "98cc52f2-6d4f-47eb-95eb-e916736ec2da"
      },
      "execution_count": null,
      "outputs": [
        {
          "output_type": "execute_result",
          "data": {
            "text/plain": [
              "2"
            ]
          },
          "metadata": {},
          "execution_count": 44
        }
      ]
    },
    {
      "cell_type": "code",
      "source": [
        "# Set the device to GPU if available, otherwise use CPU\n",
        "device = torch.device(\"cuda\" if torch.cuda.is_available() else \"cpu\")\n",
        "\n",
        "# Define a custom dataset class for loading and preprocessing pneumonia data\n",
        "class PneumoniaDataset(Dataset):\n",
        "    def __init__(self, root_dir, transform=None):\n",
        "        \"\"\"\n",
        "        Initializes the dataset.\n",
        "        Args:\n",
        "            root_dir (str): Root directory containing 'NORMAL' and 'PNEUMONIA' subdirectories.\n",
        "            transform (callable, optional): Transformation to apply to images.\n",
        "        \"\"\"\n",
        "        self.root_dir = root_dir\n",
        "        self.transform = transform  # Transformation to apply to images\n",
        "        self.image_paths = []       # List to store image file paths\n",
        "        self.labels = []            # List to store corresponding labels\n",
        "\n",
        "        # Iterate through 'NORMAL' and 'PNEUMONIA' subdirectories to collect file paths and labels\n",
        "        for label in ['NORMAL', 'PNEUMONIA']:\n",
        "            class_dir = os.path.join(root_dir, label)\n",
        "            for image_name in os.listdir(class_dir):\n",
        "                self.image_paths.append(os.path.join(class_dir, image_name))\n",
        "                self.labels.append(0 if label == 'NORMAL' else 1)  # 0 for NORMAL, 1 for PNEUMONIA\n",
        "\n",
        "    def __len__(self):\n",
        "        \"\"\"\n",
        "        Returns the total number of samples in the dataset.\n",
        "        \"\"\"\n",
        "        return len(self.image_paths)\n",
        "\n",
        "    def __getitem__(self, index):\n",
        "        \"\"\"\n",
        "        Retrieves an image and its label at the specified index.\n",
        "        Args:\n",
        "            index (int): Index of the sample to retrieve.\n",
        "        Returns:\n",
        "            image (Tensor): Transformed image.\n",
        "            label (int): Corresponding label (0 for NORMAL, 1 for PNEUMONIA).\n",
        "        \"\"\"\n",
        "        img_path = self.image_paths[index]\n",
        "        image = Image.open(img_path).convert('RGB')  # Open image and convert to RGB\n",
        "        label = self.labels[index]                  # Get corresponding label\n",
        "\n",
        "        if self.transform:\n",
        "            image = self.transform(image)           # Apply transformations if provided\n",
        "        return image, label\n",
        "\n",
        "# Define transformations for the images\n",
        "transform = transforms.Compose([\n",
        "    transforms.Resize((224, 224)),                # Resize images to 224x224\n",
        "    transforms.ToTensor(),                        # Convert images to PyTorch tensors\n",
        "    transforms.Normalize(mean=[0.485, 0.456, 0.406],  # Normalize using mean and std of ImageNet\n",
        "                         std=[0.229, 0.224, 0.225])\n",
        "])\n",
        "\n",
        "# Create dataset instances for training, testing, and validation\n",
        "train_dataset = PneumoniaDataset(root_dir='/content/drive/MyDrive/CSV_files/chest_xray 2/train', transform=transform)\n",
        "test_dataset = PneumoniaDataset(root_dir='/content/drive/MyDrive/CSV_files/chest_xray 2/test', transform=transform)\n",
        "val_dataset = PneumoniaDataset(root_dir='/content/drive/MyDrive/CSV_files/chest_xray 2/val', transform=transform)\n",
        "\n",
        "# Create data loaders for batching and shuffling\n",
        "train_loader = DataLoader(train_dataset, batch_size=32, shuffle=True)  # Shuffle for training\n",
        "test_loader = DataLoader(test_dataset, batch_size=32, shuffle=False)  # No shuffle for testing\n",
        "val_loader = DataLoader(val_dataset, batch_size=32, shuffle=False)    # No shuffle for validation\n",
        "\n",
        "# Load a pre-trained ResNet-18 model\n",
        "model = models.resnet18(weights=models.ResNet18_Weights.IMAGENET1K_V1)\n",
        "\n",
        "# Modify the fully connected layer to output 2 classes (NORMAL and PNEUMONIA)\n",
        "model.fc = nn.Linear(model.fc.in_features, 2)\n",
        "\n",
        "# Move the model to the selected device (GPU or CPU)\n",
        "model = model.to(device)\n",
        "\n",
        "criterion = nn.CrossEntropyLoss()\n",
        "optimizer = optim.Adam(model.parameters(), lr=0.001)\n",
        "num_epochs = 10\n",
        "for epoch in range(num_epochs):\n",
        "    model.train()\n",
        "    running_loss = 0.0  # Corrected the typo from \"runnign_loss\" to \"running_loss\"\n",
        "\n",
        "    for images, labels in train_loader:\n",
        "        images = images.to(device)\n",
        "        labels = labels.to(device)\n",
        "\n",
        "        optimizer.zero_grad()\n",
        "        outputs = model(images)\n",
        "        loss = criterion(outputs, labels)\n",
        "        loss.backward()\n",
        "\n",
        "        optimizer.step()\n",
        "        running_loss += loss.item()  # Use loss.item() to get the scalar value\n",
        "\n",
        "    print(f\"Epoch {epoch+1}/{num_epochs}, Loss: {running_loss/len(train_loader):.4f}\")\n",
        "\n",
        "    model.eval()\n",
        "    val_labels = []\n",
        "    val_preds = []\n",
        "\n",
        "    with torch.no_grad():\n",
        "        for images, labels in val_loader:\n",
        "            images = images.to(device)\n",
        "            labels = labels.to(device)\n",
        "\n",
        "            outputs = model(images)\n",
        "            _, preds = torch.max(outputs, 1)\n",
        "\n",
        "            val_labels.extend(labels.cpu().numpy())\n",
        "            val_preds.extend(preds.cpu().numpy())\n",
        "    val_accuracy = accuracy_score(val_labels, val_preds)\n",
        "    print(f\"Validation Accuracy: \", val_accuracy)\n",
        "\n",
        "\n",
        "model.eval()\n",
        "test_labels = []\n",
        "test_preds = []\n",
        "with torch.no_grad():\n",
        "        for images, labels in test_loader:\n",
        "            images = images.to(device)\n",
        "            labels = labels.to(device)\n",
        "\n",
        "            outputs = model(images)\n",
        "            _, preds = torch.max(outputs, 1)\n",
        "\n",
        "            test_labels.extend(labels.cpu().numpy())\n",
        "            test_preds.extend(preds.cpu().numpy())\n",
        "test_accuracy = accuracy_score(test_labels, test_preds)\n",
        "print(f\"Validation Accuracy: \", test_accuracy)\n",
        "\n",
        "torch.save(model.state_dict(), 'pneumonia_classifier.pth')"
      ],
      "metadata": {
        "colab": {
          "base_uri": "https://localhost:8080/"
        },
        "id": "aU-V-TQ67wgA",
        "outputId": "26e8bafd-a6ca-4fa7-bf3f-80f9aa06b4af"
      },
      "execution_count": 63,
      "outputs": [
        {
          "output_type": "stream",
          "name": "stdout",
          "text": [
            "Epoch 1/10, Loss: 0.8823\n",
            "Validation Accuracy:  0.0\n",
            "Epoch 2/10, Loss: 0.6266\n",
            "Validation Accuracy:  0.0\n",
            "Epoch 3/10, Loss: 0.3913\n",
            "Validation Accuracy:  0.875\n",
            "Epoch 4/10, Loss: 0.1009\n",
            "Validation Accuracy:  1.0\n",
            "Epoch 5/10, Loss: 0.0262\n",
            "Validation Accuracy:  1.0\n",
            "Epoch 6/10, Loss: 0.0105\n",
            "Validation Accuracy:  1.0\n",
            "Epoch 7/10, Loss: 0.0060\n",
            "Validation Accuracy:  1.0\n",
            "Epoch 8/10, Loss: 0.0035\n",
            "Validation Accuracy:  1.0\n",
            "Epoch 9/10, Loss: 0.0021\n",
            "Validation Accuracy:  1.0\n",
            "Epoch 10/10, Loss: 0.0013\n",
            "Validation Accuracy:  1.0\n",
            "Validation Accuracy:  0.0\n"
          ]
        }
      ]
    }
  ]
}